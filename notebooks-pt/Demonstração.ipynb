{
 "cells": [
  {
   "cell_type": "markdown",
   "metadata": {},
   "source": [
    "# Predição de modelos por meio de SAVIME e PYSAVIME \n",
    "\n",
    "__O objetivo deste notebook é demonstrar o recurso de predição e execução de modelos, \n",
    "por meio do sistema SAVIME em conjunto com a biblioteca de acesso PySavime. Serão utilizados os modelos e dados criados no notebook Tutorial - Parte 01.__\n",
    "\n",
    "Para execução deste tutorial é necessário que estejam inicializados o tfx e Savime. Observe abaixo as variáveis `savime_host`, `savime_port` que apontam respectivamente para o host e a porta em que Savime está executando.\n",
    "Assumimos que o tfx esteja sendo executado na porta 8501. "
   ]
  },
  {
   "cell_type": "code",
   "execution_count": 10,
   "metadata": {},
   "outputs": [
    {
     "name": "stdout",
     "output_type": "stream",
     "text": [
      "The autoreload extension is already loaded. To reload it, use:\n",
      "  %reload_ext autoreload\n"
     ]
    }
   ],
   "source": [
    "%load_ext autoreload\n",
    "%reload_ext autoreload\n",
    "%autoreload 2\n",
    "\n",
    "\n",
    "import os\n",
    "import sys\n",
    "\n",
    "if not 'notebooks' in os.listdir('.'):\n",
    "    current_dir = os.path.abspath(os.getcwd())\n",
    "    parent_dir = os.path.dirname(current_dir)\n",
    "    os.chdir(parent_dir)\n",
    "\n",
    "# Informado o caminho do arquivo de dados: um json contendo informações a respeito \n",
    "# da partição de x e y utilizada na parte 01.\n",
    "data_file = 'saved_models_elastic_net/data.json'\n",
    "\n",
    "# Configuração do host e porta em que o SAVIME está escutando\n",
    "savime_host = '127.0.0.1'\n",
    "savime_port = 65000"
   ]
  },
  {
   "cell_type": "markdown",
   "metadata": {},
   "source": [
    "Abaixo é realizada a inclusão das módulos necessários para execução deste notebook. Atente para a inclusão da biblioteca pysame."
   ]
  },
  {
   "cell_type": "code",
   "execution_count": 11,
   "metadata": {},
   "outputs": [],
   "source": [
    "import json\n",
    "import matplotlib.pyplot as plt\n",
    "import numpy as np\n",
    "import pandas as pd\n",
    "import seaborn as sns\n",
    "\n",
    "# Savime imports\n",
    "import pysavime\n",
    "from pysavime.util.converter import DataVariableBlockConverter\n",
    "from pysavime.util.data_variable import DataVariableBlockOps\n",
    "\n",
    "# Importa cliente de predição Python para TFX\n",
    "from src.predictor_consumer import PredictionConsumer\n",
    "from src.util import read_numpy_array_from_disk, export_numpy_array_to_c_array\n",
    "\n",
    "# Omissão de warnings do tensorflow\n",
    "import tensorflow as tf\n",
    "tf.get_logger().setLevel('ERROR')"
   ]
  },
  {
   "cell_type": "markdown",
   "metadata": {},
   "source": [
    "Abaixo são carregados os dados produzidos no Turorial 1."
   ]
  },
  {
   "cell_type": "code",
   "execution_count": 12,
   "metadata": {},
   "outputs": [],
   "source": [
    "# Leitura do arquivo de dados .json de entrada\n",
    "with open(data_file, 'r') as _in:\n",
    "    data = json.load(_in)\n",
    "\n",
    "# Leitura dos arrays X e Y\n",
    "output_dir = data['output_dir']\n",
    "\n",
    "# Definição dos diretórios \n",
    "x_file_path = os.path.join(output_dir, data['x_file_name'])\n",
    "y_file_path = os.path.join(output_dir, data['y_file_name'])\n",
    "x_c_file_path = os.path.join(output_dir, 'x_data')\n",
    "y_c_file_path = os.path.join(output_dir, 'y_data')\n",
    "\n",
    "# Convertendo os dados gerados para formato compatível com SAVIME\n",
    "x_array = read_numpy_array_from_disk(x_file_path)\n",
    "y_array = read_numpy_array_from_disk(y_file_path)\n",
    "export_numpy_array_to_c_array(x_array, 'float64', x_c_file_path)\n",
    "export_numpy_array_to_c_array(y_array, 'float64', y_c_file_path)"
   ]
  },
  {
   "cell_type": "markdown",
   "metadata": {},
   "source": [
    "A seguir definimos os comandos necessários para a construção e carga dos dados que iremos utilizar para os testes no Savime"
   ]
  },
  {
   "cell_type": "code",
   "execution_count": 13,
   "metadata": {},
   "outputs": [
    {
     "name": "stdout",
     "output_type": "stream",
     "text": [
      "CREATE_DATASET(\"x:double:2\", \"@/home/anderson/Programacao/Savime/notebooks/savime-notebooks/saved_models_elastic_net/x_data\");\n",
      "CREATE_DATASET(\"y:double:1\", \"@/home/anderson/Programacao/Savime/notebooks/savime-notebooks/saved_models_elastic_net/y_data\");\n",
      "CREATE_TAR(\"tutorial\", \"*\", \"implicit, index, int32, 1, 100000, 1\", \"x, double: 2 | y, double: 1\");\n",
      "LOAD_SUBTAR(\"tutorial\", \"ordered, index, #1,#100000\", \"x, x | y, y\")\n"
     ]
    }
   ],
   "source": [
    "# Definição dos datasets a serem utilizados:\n",
    "num_observations = len(x_array)\n",
    "num_features     = x_array.shape[1]\n",
    "y_num_columns    = y_array.shape[1] if len(y_array.shape) == 2 else 1 \n",
    "\n",
    "x_dataset = pysavime.define.file_dataset('x', x_c_file_path, 'double', length=num_features)\n",
    "y_dataset = pysavime.define.file_dataset('y', y_c_file_path, 'double', length=y_num_columns)\n",
    "\n",
    "# Definição do Tar a ser empregado:\n",
    "index = pysavime.define.implicit_tar_dimension('index', 'int32', 1, num_observations)\n",
    "x = pysavime.define.tar_attribute('x', 'double', num_features)\n",
    "y = pysavime.define.tar_attribute('y', 'double', y_num_columns)\n",
    "tar = pysavime.define.tar('tutorial', [index], [x, y])\n",
    "\n",
    "# Definição dos comandos de carga do SubTar:\n",
    "subtar_index = pysavime.define.ordered_subtar_dimension(index, 1, num_observations)\n",
    "subtar_x = pysavime.define.subtar_attribute(x, x_dataset)\n",
    "subtar_y = pysavime.define.subtar_attribute(y, y_dataset)\n",
    "subtar = pysavime.define.subtar(tar, [subtar_index], [subtar_x, subtar_y])\n",
    "\n",
    "# Os comandos gerados serão:\n",
    "print(x_dataset.create_query_str(), y_dataset.create_query_str(), sep='\\n')\n",
    "print(tar.create_query_str())\n",
    "print(subtar.load_query_str())"
   ]
  },
  {
   "cell_type": "markdown",
   "metadata": {},
   "source": [
    "Por fim, executamos no servidor os comandos previamente definidos. \n",
    "\n",
    "1. Conexão é aberta e fechada com o SAVIME (contexto with)\n",
    "2. Criação de um objeto de execução de comandos vinculado à conexão criada.\n",
    "3. \n",
    "  1. Criação dos datasets\n",
    "  2. Criação do subtar\n",
    "  3. Carregamento dos datasets por meio de um subtar\n"
   ]
  },
  {
   "cell_type": "code",
   "execution_count": 14,
   "metadata": {},
   "outputs": [],
   "source": [
    "with pysavime.Client(host=savime_host, port=savime_port) as client:\n",
    "    client.execute(pysavime.operator.create(x_dataset))\n",
    "    client.execute(pysavime.operator.create(y_dataset))\n",
    "    client.execute(pysavime.operator.create(tar))\n",
    "    client.execute(pysavime.operator.load(subtar))"
   ]
  },
  {
   "cell_type": "markdown",
   "metadata": {},
   "source": [
    "A seguir, para cada modelo salvo, obtemos o erro médio quadrático da predição no domínio de dados.\n",
    "Para isso, executamos os seguintes passos: \n",
    "1. Registrar o modelo no sistema: `pysavime.operator.register_model`\n",
    "2. Executar a consulta preditiva: `pysavime.operator.predict`\n",
    "3. Calculamos a diferença ao quadrado entre o retorno da consulta preditiva e o valor real y: `pysavime.operator.derive`\n",
    "4. A partir deste valor, calculamos o erro médio quadrático `pysavime.operator.aggregate`"
   ]
  },
  {
   "cell_type": "code",
   "execution_count": 16,
   "metadata": {},
   "outputs": [],
   "source": [
    "mse = {}\n",
    "registered_models = data['iid']\n",
    "\n",
    "with pysavime.Client(host=savime_host, port=savime_port) as client:\n",
    "    # Elemento que especifica o tamanho da janela da consulta preditiva. \n",
    "    # É uma lista de pares, em que o primeiro elemento especifica a dimensão, \n",
    "    # e o segundo a quantidade de elementos. \n",
    "    dim_spec = [(index.name, num_observations)]\n",
    "    \n",
    "    for model_name, i in registered_models.items():\n",
    "        # Um modelo é registrado no savime, isto é, associado a um tar, identificado qual o atributo de entrada e\n",
    "        # o formato da matriz multidimensional de entrada. Nesse caso, estamos enviando o vetor completo de \n",
    "        # observações, mas é totalmente possível pedir uma predição para somente uma parte dele.\n",
    "        \n",
    "        # Registro do modelo que será utilizado\n",
    "        register_cmd = pysavime.operator.register_model(model_name=model_name, model_tar=tar.name, input_attribute=x.name,\n",
    "                                               dim_specification=dim_spec)\n",
    "        client.execute(register_cmd)\n",
    "        \n",
    "        # Cálculo do erro médio quadrático\n",
    "        predict_cmd = pysavime.operator.predict(tar=tar.name, model_name=model_name, input_attribute=x.name)\n",
    "        derive_cmd = pysavime.operator.derive(predict_cmd, 'squared_difference', '(op_result - y)^2')\n",
    "        aggregate_cmd = pysavime.operator.aggregate(derive_cmd, 'avg', 'squared_difference', 'mse')\n",
    "        mse[model_name] = client.execute(aggregate_cmd)        "
   ]
  },
  {
   "cell_type": "markdown",
   "metadata": {},
   "source": [
    "Em seguida, registramos os erros de cada modelo e construímos um data frame."
   ]
  },
  {
   "cell_type": "code",
   "execution_count": 30,
   "metadata": {},
   "outputs": [],
   "source": [
    "d = {key: value[0].attrs['mse'][0][0] for key, value in mse.items()}\n",
    "df = pd.DataFrame.from_dict(d, orient='index')"
   ]
  },
  {
   "cell_type": "markdown",
   "metadata": {},
   "source": [
    "Por fim, exibimos o erro médio quadrático em cada modelo. \n",
    "Note que o modelo 25 foi o que exibiu melhores resultados, uma vez que foi treinado em pontos de todas as partições do domínio. "
   ]
  },
  {
   "cell_type": "code",
   "execution_count": 31,
   "metadata": {},
   "outputs": [
    {
     "data": {
      "image/png": "[encoded data removed]",
      "text/plain": [
       "<Figure size 720x432 with 1 Axes>"
      ]
     },
     "metadata": {
      "needs_background": "light"
     },
     "output_type": "display_data"
    }
   ],
   "source": [
    "# Ordenamos o dataframe de forma crescente\n",
    "df['index'] = df.index\n",
    "df['index'] = df['index'].apply(lambda x: int(x.split('_')[-1]))\n",
    "df = df.sort_values('index')\n",
    "\n",
    "# Exibição do gráfico\n",
    "fig, ax = plt.subplots()\n",
    "fig.set_size_inches(10, 6)\n",
    "sns.barplot(x='index', y=0, data=df, ax=ax, color='darkblue')\n",
    "\n",
    "# Para ajustar a legenda\n",
    "plt.xticks(rotation=90)\n",
    "plt.xlabel('Modelos')\n",
    "_ = plt.ylabel('MSE')"
   ]
  }
 ],
 "metadata": {
  "kernelspec": {
   "display_name": "Python 3",
   "language": "python",
   "name": "python3"
  },
  "language_info": {
   "codemirror_mode": {
    "name": "ipython",
    "version": 3
   },
   "file_extension": ".py",
   "mimetype": "text/x-python",
   "name": "python",
   "nbconvert_exporter": "python",
   "pygments_lexer": "ipython3",
   "version": "3.6.9"
  }
 },
 "nbformat": 4,
 "nbformat_minor": 4
}
