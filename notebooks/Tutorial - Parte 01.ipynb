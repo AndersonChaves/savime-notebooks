{
 "cells": [
  {
   "cell_type": "markdown",
   "metadata": {
    "pycharm": {
     "name": "#%% md\n"
    }
   },
   "source": [
    "**Para execução deste tutorial é necessária a instalação de algumas dependências:**\n",
    "\n",
    "1. [Savime](https://github.com/hllustosa/Savime/). Execute o script `examples/test_savime.sh` para verificar se a instalação foi bem sucedida.\n",
    "2. Algumas bibliotecas em Python dispostas em `tutorial.yml`. A maneira mais fácil de as instalar é obter o gerenciador [Anaconda](https://www.anaconda.com/) e criar um ambiente com o seguinte comando:\n",
    "    - `conda env create -f tutorial.yml`\n",
    "    - Para ativar o ambiente basta executar `conda activate tutorial`\n",
    "3. [PySavime](https://github.com/dnasc/PySavime): Utilize o ambiente criado anteriormente durante o processo de compilação; não será necessário efetuar a instalação dos pacotes sugeridos no repositório PySavime.\n",
    "4. [TFX](https://www.tensorflow.org/tfx/serving/setup): No Ubuntu você deve executar `sudo apt install tensorflow-model-server`."
   ]
  },
  {
   "cell_type": "markdown",
   "metadata": {},
   "source": [
    "# Parte 01\n",
    "\n",
    "Nesta para serão gerados múltiplos modelos (adaptação da [Elastic Net](https://en.wikipedia.org/wiki/Elastic_net_regularization)) . Esses serão utilizados posteriormente \n",
    "para se testar a capacidade do SAVIME corretamente invocar um modelo instanciado no Tensorflow Server.\n",
    "\n",
    "Para isso, os seguintes passos serão executados nesse parte:\n",
    "\n",
    "1. Definir o \"fenômeno\" sintético na forma $y = f(x)$, sendo $f$ a função alvo do\n",
    "aprendizado. No caso, $x \\in X \\subseteq \\mathbb{R}^d$ e $y \\in  Y \\subseteq \n",
    "\\mathbb{R}$ onde $d$ é a quantidade de\n",
    "*features* de $x$. Assim, o fenômeno a será modelado por um regressor.\n",
    "2. Gerar uma amostra uniforme (dataset) $D_X \\subset X$.\n",
    "3. Produzir $D_Y$ a partir de $D_X$ e $D = concat(D_X, D_Y)$.\n",
    "3. Treinar $m$ modelos (regressores) $m_i: X \\to Y$. Cada modelo $m_i$ deve ser\n",
    "treinado (treino / teste/ validação) em uma partição de $d_i \\subset D$ tal que\n",
    "$D = \\bigcup_{i=1}^{m} d_i$ e $\\bigcap_{i=1}^{m} d_i = \\emptyset$. \n",
    "Em particular, se $i < j$ então $\\forall x_i \\in d_i^X, x_j \\in d_j^X \\left(x_i < x_j \\right)$ onde\n",
    "$d_i^X$ indica o conjunto de elementos $x \\in d_i$. \n",
    "4. Utilizar uma métrica $\\phi$ e avaliar cada modelo $m_i$ em cada partição $d_j$. \n",
    "No caso desse exemplo $\\phi$ é o erro  quadrático médio entre a predição e o valor\n",
    "verdadeiro.\n",
    "5. Salvar os modelos em um formato adequado para execução posterior no tensorflow,\n",
    "assim como $D$ em disco a fim de ser registrado no SAVIME."
   ]
  },
  {
   "cell_type": "markdown",
   "metadata": {
    "pycharm": {
     "name": "#%% md\n"
    }
   },
   "source": [
    "## Definição do fenômeno sintético (função $f$):\n",
    "- $X = [low, high]$ onde $low, high \\in \\mathbb{R}, low < high$ (e.g., $X = [-1, 1]$);\n",
    "- $D_X = (x_1, ..., x_n), x_i \\sim U(X)$, onde $n$ é o número de observações.\n",
    "- $D_Y = (f(x),  x \\in D_X)$.\n",
    "- $D = (D_X, D_Y)$ é particionado em $m$ particões $d_i$ cada qual associada a um modelo $m_i$.\n",
    "- $A = linspace(low=1, high=2, num\\_partitions = m)$ é um vetor ordenado e igualmente \n",
    "espaçado de números entre 1 e 5 e de tamanho igual a $m$. Cada $d_i$ é associado com\n",
    "um $\\alpha_i \\in A$.\n",
    "- $g(x)$ indica qual o $\\alpha$ deve ser associado a $x$. Por exemplo, se $X = [-1, 1]$,\n",
    "e $m = 2$ então $A = [1, 5]$, $g(x=-.5) = 1$ e $g(x=.5) = 5$.\n",
    "- $f(x) = g(x_1)x_1 + ... + g(x_d)x_d + \\varepsilon$, onde\n",
    "$\\varepsilon \\sim \\mathcal{N}(\\mu, \\sigma)$ (e.g., $\\mu = 0$ e $\\sigma=1$). \n",
    "- *Note que $f$ é uma coletânea de funções lineares cada qual associada a uma partição de $X$."
   ]
  },
  {
   "cell_type": "code",
   "execution_count": 1,
   "metadata": {
    "pycharm": {
     "is_executing": false,
     "name": "#%%\n"
    }
   },
   "outputs": [],
   "source": [
    "import os\n",
    "import random as rn\n",
    "\n",
    "# Necessário mudar o diretório de trabalho para o nível mais acima\n",
    "current_dir = os.path.abspath(os.getcwd())\n",
    "parent_dir = os.path.dirname(current_dir)\n",
    "os.chdir(parent_dir)\n",
    "\n",
    "import matplotlib.pyplot as plt\n",
    "import numpy as np\n",
    "import seaborn as sns\n",
    "import tensorflow as tf\n",
    "\n",
    "from src.functions import f2_x\n",
    "from src.model import ElasticNet, ModelFactory\n",
    "from src.util import plot_heatmap\n",
    "\n",
    "seed = 32\n",
    "rn.seed(seed)\n",
    "np.random.seed(seed)\n",
    "tf.random.set_seed(seed)\n",
    "\n",
    "sns.set_context('notebook')\n",
    "sns.set_style('whitegrid')\n",
    "sns.set_palette(sns.color_palette(\"Paired\"))\n",
    "\n",
    "tf.get_logger().setLevel('ERROR')\n",
    "# my_devices = tf.config.experimental.list_physical_devices(device_type='CPU')\n",
    "# tf.config.experimental.set_visible_devices(devices= my_devices, device_type='CPU')"
   ]
  },
  {
   "cell_type": "code",
   "execution_count": 2,
   "outputs": [
    {
     "data": {
      "text/plain": "<matplotlib.axes._subplots.AxesSubplot at 0x7ff5b9795650>"
     },
     "metadata": {},
     "output_type": "execute_result",
     "execution_count": 2
    },
    {
     "data": {
      "text/plain": "<Figure size 432x288 with 1 Axes>",
      "image/png": "[encoded data removed]"
     },
     "metadata": {},
     "output_type": "display_data"
    }
   ],
   "source": [
    "# Exemplo do comportamento de f\n",
    "low_plot, high_plot, num_partitions_plot = -1, 1, 5\n",
    "x_plot = np.random.uniform(low_plot, high_plot, 10000).reshape(-1, 1)\n",
    "y_plot = f2_x(x_plot, low_plot, high_plot, num_partitions_plot, 0, 1,\n",
    "              alpha_min=-1, alpha_max=1)\n",
    "sns.regplot(x_plot.ravel(), y_plot.ravel(), fit_reg=False)"
   ],
   "metadata": {
    "collapsed": false,
    "pycharm": {
     "name": "#%%\n",
     "is_executing": false
    }
   }
  },
  {
   "cell_type": "code",
   "execution_count": 3,
   "metadata": {
    "pycharm": {
     "is_executing": false,
     "name": "#%%\n"
    }
   },
   "outputs": [],
   "source": [
    "# número de features, observações e modelos\n",
    "d = 2\n",
    "n = 1000000\n",
    "m = 20\n",
    "\n",
    "# Input shape do modelo\n",
    "input_shape = (d, )\n",
    "\n",
    "# intervalo de X\n",
    "low = -1\n",
    "high = 1\n",
    "\n",
    "# amostra uniforme entre low e high de tamanho n*d\n",
    "x = np.random.uniform(low, high, n * d)\n",
    "\n",
    "# Ordenação de x a fim de garantir o item .4\n",
    "x = np.reshape(np.sort(x), newshape=(n, d))\n",
    "\n",
    "# Configurações para o treinamento dos modelos\n",
    "val_size = .3\n",
    "test_size = .1\n",
    "\n",
    "# Prefixo de nome associado a cada modelo\n",
    "model_name_prefix = 'my_elastic_net'\n",
    "\n",
    "# Onde os modelos e dados serão salvos\n",
    "output_dir = os.path.join(parent_dir, 'saved_models')\n",
    "\n",
    "# Configuração da função\n",
    "f2_alpha_min = 1 \n",
    "f2_alpha_max = 3\n",
    "f2_mean = 0\n",
    "f2_std = 1"
   ]
  },
  {
   "cell_type": "code",
   "execution_count": 4,
   "metadata": {
    "pycharm": {
     "is_executing": false,
     "name": "#%%\n"
    }
   },
   "outputs": [],
   "source": [
    "# Instanciação de uma fábrica de modelos. O objeto 'model_factory' abaixo ficará responsável por:\n",
    "# 1. Criar o vetor y com base na função f2_x descrita anteriormente (com mu=0 e sigma=.1)\n",
    "# 2. Dividir x em m partições\n",
    "# 3. Treinar cada modelo na sua devida partição\n",
    "# 4. Salvar modelos\n",
    "# 5. Salvar dados\n",
    "\n",
    "model_factory = ModelFactory(model_class=ElasticNet, x=x, f_x=f2_x, num_models=m,\n",
    "                             test_size=test_size, val_size=val_size,\n",
    "                             model_name_prefix=model_name_prefix,\n",
    "                             f_kwargs=dict(low=low, high=high,\n",
    "                                           num_partitions=m,\n",
    "                                           mean=f2_mean, std=f2_std,\n",
    "                                           alpha_min=f2_alpha_min, alpha_max=f2_alpha_max),\n",
    "                             model_kwargs=dict(input_shape=input_shape,\n",
    "                                               loss=tf.keras.losses.mean_squared_error,\n",
    "                                               metrics=[tf.keras.metrics.mean_squared_error],\n",
    "                                               epochs=5))"
   ]
  },
  {
   "cell_type": "code",
   "execution_count": 5,
   "metadata": {
    "pycharm": {
     "is_executing": false,
     "name": "#%%\n"
    }
   },
   "outputs": [
    {
     "name": "stderr",
     "text": [
      "Building models: 100%|██████████| 20/20 [00:00<00:00, 26.64it/s]\n",
      "Training models: 20it [01:41,  5.07s/it]\n"
     ],
     "output_type": "stream"
    }
   ],
   "source": [
    "# Compilar modelos keras e ajustá-los\n",
    "model_factory.build_models()\n",
    "model_factory.fit_models()"
   ]
  },
  {
   "cell_type": "code",
   "execution_count": 6,
   "metadata": {
    "pycharm": {
     "is_executing": false,
     "name": "#%%\n"
    }
   },
   "outputs": [],
   "source": [
    "# Salvar modelos e dados\n",
    "model_factory.save_models(output_dir)\n",
    "model_factory.save_data(output_dir)"
   ]
  },
  {
   "cell_type": "code",
   "execution_count": 7,
   "metadata": {
    "pycharm": {
     "is_executing": false,
     "name": "#%%\n"
    }
   },
   "outputs": [
    {
     "name": "stderr",
     "text": [
      "Building metric matrices: 20it [09:02, 27.12s/it]\n"
     ],
     "output_type": "stream"
    },
    {
     "data": {
      "text/plain": "<Figure size 360x576 with 4 Axes>",
      "image/png": "[encoded data removed]"
     },
     "metadata": {},
     "output_type": "display_data"
    }
   ],
   "source": [
    "info = model_factory.get_metric_info()\n",
    "\n",
    "num_metrics = len(info.keys())\n",
    "fig, axs = plt.subplots(num_metrics, 1)\n",
    "fig.set_size_inches(5, 8)\n",
    "for i, (key, value) in enumerate(info.items()):\n",
    "    plot_heatmap(matrix=value.matrix, title=f'Heatmap for {key}', \n",
    "                 x_label='Model ID', y_label='Split ID', ax=axs[i])\n",
    "fig.tight_layout()"
   ]
  },
  {
   "cell_type": "markdown",
   "metadata": {
    "pycharm": {
     "name": "#%% md\n"
    }
   },
   "source": [
    "Note no plot acima que quanto mais distante da partição em que o modelo foi treinado, maior o erro que o modelo obtém na predição. Por exemplo, o modelo 19 obtém MSE de mais de 50 para partição 2 enquanto menor que 10 para partição 19."
   ]
  }
 ],
 "metadata": {
  "kernelspec": {
   "display_name": "Python 3",
   "language": "python",
   "name": "python3"
  },
  "language_info": {
   "codemirror_mode": {
    "name": "ipython",
    "version": 3
   },
   "file_extension": ".py",
   "mimetype": "text/x-python",
   "name": "python",
   "nbconvert_exporter": "python",
   "pygments_lexer": "ipython3",
   "version": "3.7.6"
  },
  "pycharm": {
   "stem_cell": {
    "cell_type": "raw",
    "source": [],
    "metadata": {
     "collapsed": false
    }
   }
  }
 },
 "nbformat": 4,
 "nbformat_minor": 1
}