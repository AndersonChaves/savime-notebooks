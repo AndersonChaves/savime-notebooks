{
 "cells": [
  {
   "cell_type": "code",
   "execution_count": 1,
   "metadata": {
    "pycharm": {
     "is_executing": false
    }
   },
   "outputs": [],
   "source": [
    "import h5py\n",
    "import matplotlib.pyplot as plt\n",
    "import numpy as np\n",
    "import random as rn\n",
    "import seaborn as sns\n",
    "import tensorflow as tf\n",
    "import os\n",
    "\n",
    "# Necessário mudar o diretório de trabalho para o nível mais acima\n",
    "if not 'notebooks' in os.listdir('.'):\n",
    "    current_dir = os.path.abspath(os.getcwd())\n",
    "    parent_dir = os.path.dirname(current_dir)\n",
    "    os.chdir(parent_dir)\n",
    "\n",
    "from src.model import Arima, ModelFactory\n",
    "from src.util import plot_heatmap, temporal_train_val_test2\n",
    "\n",
    "seed = 32\n",
    "rn.seed(seed)\n",
    "np.random.seed(seed)\n",
    "tf.random.set_seed(seed)\n",
    "\n",
    "sns.set_context('notebook')\n",
    "sns.set_style('whitegrid')\n",
    "sns.set_palette(sns.color_palette(\"Paired\"))\n",
    "\n",
    "tf.get_logger().setLevel('ERROR')\n",
    "# my_devices = tf.config.experimental.list_physical_devices(device_type='CPU')\n",
    "# tf.config.experimental.set_visible_devices(devices= my_devices, device_type='CPU')"
   ]
  },
  {
   "cell_type": "code",
   "execution_count": 2,
   "metadata": {
    "pycharm": {
     "is_executing": false,
     "name": "#%%\n"
    }
   },
   "outputs": [],
   "source": [
    "dataset_path = 'data/tiny-dataset.hdf5'\n",
    "\n",
    "with h5py.File(dataset_path, 'r') as in_:\n",
    "    data = in_['real'][...]"
   ]
  },
  {
   "cell_type": "code",
   "execution_count": 3,
   "metadata": {
    "pycharm": {
     "is_executing": false,
     "name": "#%%\n"
    }
   },
   "outputs": [],
   "source": [
    "x = data[:, :-1]\n",
    "y = data[:, 1:]\n",
    "\n",
    "num_models = 25\n",
    "test_size = .1\n",
    "val_size = .2\n",
    "\n",
    "model_name_prefix = 'arima'\n",
    "output_dir = os.path.join(parent_dir, 'saved_models_arima')"
   ]
  },
  {
   "cell_type": "code",
   "execution_count": 4,
   "metadata": {
    "pycharm": {
     "is_executing": false,
     "name": "#%%\n"
    }
   },
   "outputs": [],
   "source": [
    "model_factory = ModelFactory(model_class=Arima, x=x, f_x=y, num_models=num_models,\n",
    "                             test_size=test_size, val_size=val_size,\n",
    "                             model_name_prefix=model_name_prefix,\n",
    "                             model_kwargs=dict(u=0, \n",
    "                                               optimizer=tf.keras.optimizers.Adam(), \n",
    "                                               early_stopping_min_delta=1e-8,\n",
    "                                               early_stopping_patience=50),\n",
    "                             train_val_test_splitter=temporal_train_val_test2)"
   ]
  },
  {
   "cell_type": "code",
   "execution_count": 5,
   "metadata": {
    "pycharm": {
     "is_executing": false,
     "name": "#%%\n"
    }
   },
   "outputs": [
    {
     "name": "stderr",
     "text": [
      "Building models: 100%|██████████| 25/25 [00:00<00:00, 105.11it/s]\n",
      "Training models: 25it [01:01,  2.45s/it]\n"
     ],
     "output_type": "stream"
    }
   ],
   "source": [
    "model_factory.build_models()\n",
    "model_factory.fit_models()"
   ]
  },
  {
   "cell_type": "code",
   "execution_count": 6,
   "metadata": {
    "pycharm": {
     "is_executing": false,
     "name": "#%%\n"
    }
   },
   "outputs": [
    {
     "name": "stderr",
     "text": [
      "Building metric matrices: 25it [00:25,  1.01s/it]\n"
     ],
     "output_type": "stream"
    },
    {
     "data": {
      "text/plain": "<Figure size 360x360 with 4 Axes>",
      "image/png": "[encoded data removed]"
     },
     "metadata": {},
     "output_type": "display_data"
    }
   ],
   "source": [
    "info = model_factory.get_metric_info()\n",
    "\n",
    "num_metrics = len(info.keys())\n",
    "fig, axs = plt.subplots(num_metrics, 1)\n",
    "fig.set_size_inches(5, 5)\n",
    "for i, (key, value) in enumerate(info.items()):\n",
    "    plot_heatmap(matrix=value.matrix, title=f'Heatmap for {key}', \n",
    "                 x_label='Model ID', y_label='Split ID', ax=axs[i])\n",
    "fig.tight_layout()"
   ]
  },
  {
   "cell_type": "code",
   "execution_count": 7,
   "metadata": {
    "pycharm": {
     "is_executing": false,
     "name": "#%%\n"
    }
   },
   "outputs": [],
   "source": [
    "model_factory.save_models(output_dir)\n",
    "model_factory.save_data(output_dir)"
   ]
  }
 ],
 "metadata": {
  "kernelspec": {
   "display_name": "Python 3",
   "language": "python",
   "name": "python3"
  },
  "language_info": {
   "codemirror_mode": {
    "name": "ipython",
    "version": 3
   },
   "file_extension": ".py",
   "mimetype": "text/x-python",
   "name": "python",
   "nbconvert_exporter": "python",
   "pygments_lexer": "ipython3",
   "version": "3.7.6"
  },
  "pycharm": {
   "stem_cell": {
    "cell_type": "raw",
    "source": [],
    "metadata": {
     "collapsed": false
    }
   }
  }
 },
 "nbformat": 4,
 "nbformat_minor": 1
}